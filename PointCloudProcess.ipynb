{
 "cells": [
  {
   "cell_type": "code",
   "execution_count": null,
   "id": "db6955c3",
   "metadata": {},
   "outputs": [],
   "source": [
    "\"\"\"\n",
    "Author: Hanshuo Wu\n",
    "This file is for projection of 2D material segmentation results to 3D world.\n",
    "\"\"\""
   ]
  },
  {
   "cell_type": "code",
   "execution_count": null,
   "id": "7a57384f",
   "metadata": {},
   "outputs": [],
   "source": [
    "import numpy as np\n",
    "import pye57\n",
    "import os"
   ]
  },
  {
   "cell_type": "code",
   "execution_count": null,
   "id": "82af5ded",
   "metadata": {},
   "outputs": [],
   "source": [
    "from MatchPointPixel import PointCloud"
   ]
  },
  {
   "cell_type": "code",
   "execution_count": null,
   "id": "45378b24",
   "metadata": {},
   "outputs": [],
   "source": [
    "folder = \"to/your/folder\"  # Change to your local path\n",
    "file = \"your_file.e57\"\n",
    "file_path = os.path.join(folder, file)\n",
    "e57 = pye57.E57(file_path)\n",
    "PC=PointCloud(folder+file, RGB = False)   # A Point Cloud Object"
   ]
  },
  {
   "cell_type": "markdown",
   "id": "4a443f81",
   "metadata": {},
   "source": [
    "### Create a point cloud object\n",
    "\n",
    "Raw data read here are in camera coordinate!  \n",
    "\n",
    "i.e., Raw data read (CartesianXYZ) + Translation Matrix = Coordinates in CloudCompare  "
   ]
  },
  {
   "cell_type": "code",
   "execution_count": null,
   "id": "bc542e63",
   "metadata": {},
   "outputs": [],
   "source": [
    "header = e57.get_header(0)\n",
    "print(\"Number of Points=\", header.point_count)\n",
    "print(\"Rotation Matrix:\" , header.rotation_matrix)\n",
    "print(\"Translation Matrix:\" , header.translation)\n",
    "# all the header information can be printed using:\n",
    "# print(\" --- The raw data is: ---\")\n",
    "# for line in header.pretty_print():\n",
    "#     print(line)\n"
   ]
  },
  {
   "cell_type": "markdown",
   "id": "3bf56b1b",
   "metadata": {},
   "source": [
    "### Segment 2D data  \n",
    "\n",
    "#### Classification\n",
    "\n",
    "1 - Rustication  \n",
    "2 - Brick  \n",
    "3 - Stucco  \n",
    "4 - Wood  \n",
    "5......"
   ]
  },
  {
   "cell_type": "code",
   "execution_count": null,
   "id": "740ad2d1",
   "metadata": {},
   "outputs": [],
   "source": [
    "from ultralytics import YOLO\n",
    "\n",
    "import torch\n",
    "import plotly.graph_objects as go\n",
    "import cv2"
   ]
  },
  {
   "cell_type": "code",
   "execution_count": null,
   "id": "c2b94be9",
   "metadata": {},
   "outputs": [],
   "source": [
    "# Get list of 6 images\n",
    "image=PC.image_extract(RGB = False)"
   ]
  },
  {
   "cell_type": "code",
   "execution_count": null,
   "id": "0ccbba38",
   "metadata": {},
   "outputs": [],
   "source": [
    "model = YOLO(\"weights/best.pt\")  # Change the path"
   ]
  },
  {
   "cell_type": "code",
   "execution_count": null,
   "id": "e98122f2",
   "metadata": {},
   "outputs": [],
   "source": [
    "### Get predict result\n",
    "results=[]\n",
    "for i in range(6):\n",
    "    results.append(model.predict(image[i],conf=0.25))"
   ]
  },
  {
   "cell_type": "code",
   "execution_count": null,
   "id": "785ae684",
   "metadata": {},
   "outputs": [],
   "source": [
    "# Squeeze into a single mask for each result\n",
    "single_masks = []\n",
    "for rlt in results:\n",
    "    if rlt[0].masks != None:\n",
    "        cal = (rlt[0].masks.masks) * ((rlt[0].boxes.cls+1).reshape(rlt[0].masks.masks.shape[0],1,1))   # Every mask/label has an offset=1, to avoid [class 0]\n",
    "        cal = (torch.max(cal,0).values).numpy()  # reduce to one mask\n",
    "        cal = np.rint(cv2.resize(cal, (2048,2048)))  # upscale the mask to the original input size\n",
    "        single_masks.append(cal.astype(int)) # This is the single mask we need.\n",
    "    else:\n",
    "        single_masks.append(np.zeros((2048,2048)).astype(int))  # zeros(2048,2048) for images with no class.\n",
    "#sys.getsizeof(single_masks)"
   ]
  },
  {
   "cell_type": "markdown",
   "id": "4e847af0",
   "metadata": {},
   "source": [
    "### Data Visualization"
   ]
  },
  {
   "cell_type": "code",
   "execution_count": null,
   "id": "2438aa32",
   "metadata": {},
   "outputs": [],
   "source": [
    "### Downsample randomly and visualize the original data.\n",
    "\n",
    "data = np.zeros((PC.world_system[\"pts_world\"][\"X\"].shape[0], 7))\n",
    "data[:, 0] = PC.world_system[\"pts_world\"][\"X\"]\n",
    "data[:, 1] = PC.world_system[\"pts_world\"][\"Y\"]\n",
    "data[:, 2] = PC.world_system[\"pts_world\"][\"Z\"]\n",
    "data[:, 3] = PC.world_system[\"pts_world\"][\"R\"]\n",
    "data[:, 4] = PC.world_system[\"pts_world\"][\"G\"]\n",
    "data[:, 5] = PC.world_system[\"pts_world\"][\"B\"]\n",
    "# Channel 6 is the classification\n",
    "\n",
    "#data = np.asarray(cloud.points)\n",
    "\n",
    "n_points = data.shape[0]\n",
    "idxs_sampling = np.random.choice(data.shape[0], np.min([10*(10**4), data.shape[0]]))\n",
    "data = data[idxs_sampling, :]\n",
    "print(data.shape)\n",
    "\n",
    "trace=dict(type=\"scatter3d\",\n",
    "x=data[:, 0],\n",
    "y=data[:, 1],\n",
    "z=data[:, 2],\n",
    "mode=\"markers\",\n",
    "marker=dict(color=[f\"rgb({data[i, 3]}, {data[i, 4]}, {data[i, 5]})\" for i in range(data.shape[0])])\n",
    ")\n",
    "\n",
    "fig = go.Figure(layout={\"width\": 600, \"height\": 400})\n",
    "fig.add_trace(trace)\n",
    "fig.update_traces(marker_size = 1)\n",
    "fig.update_layout(margin=dict(l=0, r=0, b=0, t=0))\n",
    "fig.show()"
   ]
  },
  {
   "cell_type": "code",
   "execution_count": null,
   "id": "025518c0",
   "metadata": {},
   "outputs": [],
   "source": [
    "color_code = np.array([[255,255,255],  # white - class 0\n",
    "                       [250,0,0], # red - Rustication - class 1\n",
    "                       [0,250,0], # green - Brick - class 2\n",
    "                       [0,0,250], # blue - Stucco  - class 3\n",
    "                       [250,250,0], # yellow - Wood  - class 4\n",
    "                      ])"
   ]
  },
  {
   "cell_type": "code",
   "execution_count": null,
   "id": "15d2f03b",
   "metadata": {},
   "outputs": [],
   "source": [
    "### Retreive and match each point\"s label from images\n",
    "\n",
    "for count, i in enumerate(data):\n",
    "    point = np.array([[i[0]],[i[1]],[i[2]],[1]],dtype = float)\n",
    "    #print(point)\n",
    "    match = PC.bridge_point_to_pixel(point)   # match result\n",
    "    if match is None:\n",
    "        continue\n",
    "    output = single_masks[match[0]] # Use index of the image to find the correct mask\n",
    "    u = match[1][0]\n",
    "    v = match[1][1]\n",
    "    material = output[v][u]  # no need to int() since the output has been in np.int32\n",
    "    #print(color_code[material])\n",
    "    #print(match[2])\n",
    "    i[6] = material  # Assign label\n",
    "    #print(\"\\r Processing: {0} / {1}\".format(count,data.shape[0]),end=\"\")\n",
    "\n",
    "#This block took 4926s for 10000 points"
   ]
  },
  {
   "cell_type": "code",
   "execution_count": null,
   "id": "bdb0fa3c",
   "metadata": {
    "scrolled": false
   },
   "outputs": [],
   "source": [
    "### Visualize the final result\n",
    "\n",
    "#data = np.load(\"scan3-0725.npy\")\n",
    "\n",
    "trace=dict(type=\"scatter3d\",\n",
    "x=data[:, 0],\n",
    "y=data[:, 1],\n",
    "z=data[:, 2],\n",
    "mode=\"markers\",\n",
    "marker=dict(color=[f\"rgb({color_code[int(data[i, 6])][0]}, {color_code[int(data[i, 6])][1]}, {color_code[int(data[i, 6])][2]})\" for i in range(data.shape[0])])\n",
    ")\n",
    "\n",
    "fig = go.Figure(layout={\"width\": 600, \"height\": 400})\n",
    "fig.add_trace(trace)\n",
    "fig.update_traces(marker_size = 1)\n",
    "fig.update_layout(margin=dict(l=0, r=0, b=0, t=0))\n",
    "fig.show()"
   ]
  },
  {
   "cell_type": "code",
   "execution_count": null,
   "id": "0afc6e4b",
   "metadata": {},
   "outputs": [],
   "source": [
    "# color_code = np.array([[255,255,255],  # white - class 0\n",
    "#                        [250,0,0], # red - Rustication - class 1\n",
    "#                        [0,250,0], # green - Brick - class 2\n",
    "#                        [0,0,250], # blue - Stucco  - class 3\n",
    "#                        [250,250,0], # yellow - Wood  - class 4\n",
    "#                       ])"
   ]
  },
  {
   "cell_type": "code",
   "execution_count": null,
   "id": "af692336",
   "metadata": {},
   "outputs": [],
   "source": [
    "### save result\n",
    "np.save(\"scan6-0829.npy\",data)"
   ]
  },
  {
   "cell_type": "code",
   "execution_count": null,
   "id": "6afdb7b9",
   "metadata": {},
   "outputs": [],
   "source": [
    "e57.close()"
   ]
  }
 ],
 "metadata": {
  "kernelspec": {
   "display_name": "Python 3 (ipykernel)",
   "language": "python",
   "name": "python3"
  },
  "language_info": {
   "codemirror_mode": {
    "name": "ipython",
    "version": 3
   },
   "file_extension": ".py",
   "mimetype": "text/x-python",
   "name": "python",
   "nbconvert_exporter": "python",
   "pygments_lexer": "ipython3",
   "version": "3.9.12"
  }
 },
 "nbformat": 4,
 "nbformat_minor": 5
}
