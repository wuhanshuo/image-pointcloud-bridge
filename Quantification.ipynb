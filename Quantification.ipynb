{
 "cells": [
  {
   "cell_type": "code",
   "execution_count": null,
   "id": "dc0a32f7",
   "metadata": {},
   "outputs": [],
   "source": [
    "\"\"\"\n",
    "Author: Hanshuo Wu\n",
    "This file is for the voxelization of point cloud and the quantification of different materials.\n",
    "\"\"\""
   ]
  },
  {
   "cell_type": "code",
   "execution_count": null,
   "id": "4502fb53",
   "metadata": {},
   "outputs": [],
   "source": [
    "import open3d as o3d\n",
    "import numpy as np\n",
    "import plotly.graph_objects as go\n",
    "import matplotlib.pyplot as plt "
   ]
  },
  {
   "cell_type": "code",
   "execution_count": 2,
   "id": "cc7f71c3",
   "metadata": {},
   "outputs": [],
   "source": [
    "color_code = np.array([[220,220,220],  # white - class 0\n",
    "                       [250,0,0], # red - Rustication - class 1\n",
    "                       [0,250,0], # green - Brick - class 2\n",
    "                       [0,0,250], # blue - Stucco  - class 3\n",
    "                       [250,250,0], # yellow - Wood  - class 4\n",
    "                      ])"
   ]
  },
  {
   "cell_type": "code",
   "execution_count": 33,
   "id": "a3b0e5be",
   "metadata": {},
   "outputs": [],
   "source": [
    "# Initialization\n",
    "pts_pred = np.load(\"results/scan1-0829.npy\")\n",
    "result = pts_pred\n",
    "\n",
    "original_pc = o3d.geometry.PointCloud()\n",
    "original_pc.points = o3d.utility.Vector3dVector(pts_pred[:,:3])\n",
    "original_pc.colors = o3d.utility.Vector3dVector(pts_pred[:,3:6]/255)\n",
    "\n",
    "pred_pc = o3d.geometry.PointCloud()\n",
    "pred_pc.points = o3d.utility.Vector3dVector(pts_pred[:,:3])\n",
    "pts_pred[:,3:6] = np.asarray([color_code[int(i)] for i in pts_pred[:,6]])\n",
    "pred_pc.colors = o3d.utility.Vector3dVector(pts_pred[:,3:6]/255)\n",
    "\n",
    "voxel_size = 0.8"
   ]
  },
  {
   "cell_type": "code",
   "execution_count": 34,
   "id": "6eaf1723",
   "metadata": {},
   "outputs": [],
   "source": [
    "o3d.visualization.draw_geometries([original_pc])\n",
    "o3d.visualization.draw_geometries([o3d.geometry.VoxelGrid.create_from_point_cloud(original_pc,    #Voxelized Original PC\n",
    "                                                            voxel_size=voxel_size)])\n",
    "o3d.visualization.draw_geometries([pred_pc])  #Predicted PC\n",
    "o3d.visualization.draw_geometries([o3d.geometry.VoxelGrid.create_from_point_cloud(pred_pc,    #Voxelized Predicted PC\n",
    "                                                            voxel_size=voxel_size)])   "
   ]
  },
  {
   "cell_type": "code",
   "execution_count": 35,
   "id": "19544a85",
   "metadata": {},
   "outputs": [
    {
     "name": "stdout",
     "output_type": "stream",
     "text": [
      "VoxelGrid with 6477 voxels.\n"
     ]
    }
   ],
   "source": [
    "# Get Voxel Grid\n",
    "voxel_grid = o3d.geometry.VoxelGrid.create_from_point_cloud(pred_pc,\n",
    "                                                            voxel_size=voxel_size)\n",
    "print(voxel_grid)\n",
    "#o3d.visualization.draw_geometries([voxel_grid])"
   ]
  },
  {
   "cell_type": "code",
   "execution_count": 36,
   "id": "bfe09232",
   "metadata": {},
   "outputs": [
    {
     "name": "stdout",
     "output_type": "stream",
     "text": [
      "CPU times: total: 188 ms\n",
      "Wall time: 412 ms\n"
     ]
    }
   ],
   "source": [
    "%%time\n",
    "# Get tuples: (Voxel Index, Predict Result)\n",
    "predict_list = []\n",
    "for i in pts_pred:\n",
    "    idx = voxel_grid.get_voxel(np.array([i[0],i[1],i[2]]))\n",
    "    predict = int(i[6])\n",
    "    predict_list.append((tuple(idx),predict))"
   ]
  },
  {
   "cell_type": "code",
   "execution_count": 37,
   "id": "b467e053",
   "metadata": {},
   "outputs": [
    {
     "name": "stdout",
     "output_type": "stream",
     "text": [
      "Class Counts:  [4350  316 2006  129]\n",
      "Voxel Size = 0.8\n",
      "CPU times: total: 78.1 ms\n",
      "Wall time: 264 ms\n"
     ]
    }
   ],
   "source": [
    "%%time\n",
    "# Get matrix of voxel grids, in which each vo contains the SET of predict results\n",
    "\n",
    "# Create a voxel grid matrix, with shape of max_X*max_Y*max_Z\n",
    "matrix = np.empty(\n",
    "    tuple(np.max(np.asarray([i[0] for i in predict_list]),axis=0)+1)\n",
    "    , dtype=object)    \n",
    "\n",
    "# For each point in a voxel, add class of the point to the matrix corresponding to the voxel.\n",
    "for i in predict_list:\n",
    "    if matrix[i[0]] is None: \n",
    "        matrix[i[0]] = set()    \n",
    "    matrix[i[0]].add(i[1])\n",
    "    #print(i[0], matrix[i[0]])\n",
    "\n",
    "# Count each class\n",
    "count = np.array([],dtype=\"int32\")\n",
    "for idx, x in np.ndenumerate(matrix):\n",
    "    if x is not None:\n",
    "        count = np.hstack((count,np.asarray(list(x))))\n",
    "print(\"Class Counts: \",np.bincount(count))\n",
    "print(\"Voxel Size =\", voxel_grid.voxel_size)"
   ]
  },
  {
   "cell_type": "code",
   "execution_count": 38,
   "id": "ee7dd125",
   "metadata": {},
   "outputs": [
    {
     "name": "stdout",
     "output_type": "stream",
     "text": [
      "Class Counts:  [4240  221 1892  124]\n",
      "Voxel Size = 0.8\n",
      "CPU times: total: 234 ms\n",
      "Wall time: 327 ms\n"
     ]
    }
   ],
   "source": [
    "%%time\n",
    "# Get matrix of voxel grids, in which each cell is only the MAJORITY of results\n",
    "matrix = np.empty(\n",
    "    tuple(np.max(np.asarray([i[0] for i in predict_list]),axis=0)+1)\n",
    "    , dtype=object) \n",
    "empty = set(\"1\")\n",
    "for i in predict_list:\n",
    "    if matrix[i[0]] is None: \n",
    "        matrix[i[0]] = list()   \n",
    "    matrix[i[0]].append(i[1])\n",
    "    #print(i[0], matrix[i[0]])\n",
    "    \n",
    "for idx, x in np.ndenumerate(matrix):\n",
    "    if x is not None:\n",
    "        matrix[idx] = np.argmax(np.bincount(x))   # Majority Voting\n",
    "        #matrix[idx] = stats.mode(nums)[0][0]\n",
    "        \n",
    "# Count each class\n",
    "count=np.array([],dtype=\"int32\")\n",
    "for idx, x in np.ndenumerate(matrix):\n",
    "    if x is not None:\n",
    "        count=np.append(count,[x])\n",
    "print(\"Class Counts: \",np.bincount(count))\n",
    "print(\"Voxel Size =\", voxel_grid.voxel_size)"
   ]
  },
  {
   "cell_type": "code",
   "execution_count": 39,
   "id": "adbc9819",
   "metadata": {},
   "outputs": [],
   "source": [
    "# Visualization of one class, after majority voting\n",
    "bounding_box = []\n",
    "for idx, x in np.ndenumerate(matrix):\n",
    "    if x == 1:\n",
    "        bb = o3d.geometry.AxisAlignedBoundingBox.create_from_points(voxel_grid.get_voxel_bounding_points(idx))\n",
    "        bb.color = np.array([0,0,0])  # feel free to choose any other color\n",
    "        bounding_box.append(bb)\n",
    "#axes = o3d.geometry.TriangleMesh.create_coordinate_frame(origin=np.array([0,0,15]), size=10)  # in order to be sure of the direction\n",
    "#o3d.visualization.draw_geometries([voxel_grid, *bounding_box, axes])\n",
    "o3d.visualization.draw_geometries([voxel_grid, *bounding_box])"
   ]
  },
  {
   "cell_type": "code",
   "execution_count": null,
   "id": "94ac8d65",
   "metadata": {},
   "outputs": [],
   "source": [
    "original_pc.estimate_normals()\n",
    "with o3d.utility.VerbosityContextManager(\n",
    "        o3d.utility.VerbosityLevel.Debug) as cm:\n",
    "    mesh, densities = o3d.geometry.TriangleMesh.create_from_point_cloud_poisson(\n",
    "        original_pc, depth=9)\n",
    "print(mesh)\n",
    "o3d.visualization.draw_geometries([mesh],\n",
    "                                  zoom=0.664,\n",
    "                                  front=[-0.4761, -0.4698, -0.7434],\n",
    "                                  lookat=[1.8900, 3.2596, 0.9284],\n",
    "                                  up=[0.2304, -0.8825, 0.4101])"
   ]
  }
 ],
 "metadata": {
  "kernelspec": {
   "display_name": "Python 3 (ipykernel)",
   "language": "python",
   "name": "python3"
  },
  "language_info": {
   "codemirror_mode": {
    "name": "ipython",
    "version": 3
   },
   "file_extension": ".py",
   "mimetype": "text/x-python",
   "name": "python",
   "nbconvert_exporter": "python",
   "pygments_lexer": "ipython3",
   "version": "3.9.12"
  }
 },
 "nbformat": 4,
 "nbformat_minor": 5
}
